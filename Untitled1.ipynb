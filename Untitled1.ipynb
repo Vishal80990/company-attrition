{
 "cells": [
  {
   "cell_type": "code",
   "execution_count": null,
   "id": "a6655806-ef28-479a-8e5a-506b8fd0315a",
   "metadata": {},
   "outputs": [],
   "source": [
    "!pip install fosforml \n",
    "!pip install fosforio"
   ]
  },
  {
   "cell_type": "code",
   "execution_count": 1,
   "id": "88e2ebdd-797e-41a6-8122-c450268ba6e3",
   "metadata": {},
   "outputs": [],
   "source": [
    "import pandas as pd\n",
    "from sklearn.model_selection import train_test_split\n",
    "from sklearn.preprocessing import StandardScaler, OneHotEncoder\n",
    "from sklearn.compose import ColumnTransformer\n",
    "from sklearn.pipeline import Pipeline\n",
    "from sklearn.linear_model import LogisticRegression\n",
    "from sklearn.metrics import classification_report"
   ]
  },
  {
   "cell_type": "code",
   "execution_count": 2,
   "id": "6ea8441c-6bc8-4347-9999-8dd69a37edd6",
   "metadata": {},
   "outputs": [],
   "source": [
    "from fosforml.model_manager.snowflakesession import get_session\n",
    "my_session = get_session()"
   ]
  },
  {
   "cell_type": "code",
   "execution_count": 3,
   "id": "427846dd-d1be-4b69-9006-b843c490113e",
   "metadata": {},
   "outputs": [],
   "source": [
    "df = 'EMPLOYEE_DATASET'"
   ]
  },
  {
   "cell_type": "code",
   "execution_count": 4,
   "id": "cf1ae9f8-1dc7-4fbf-9e07-51ca18117e39",
   "metadata": {},
   "outputs": [],
   "source": [
    "sf_df = my_session.sql(\"select * from {}\".format(df))"
   ]
  },
  {
   "cell_type": "code",
   "execution_count": 5,
   "id": "82c6d76c-e451-4447-8662-6a1ee3293977",
   "metadata": {},
   "outputs": [],
   "source": [
    "df = sf_df.to_pandas()"
   ]
  },
  {
   "cell_type": "code",
   "execution_count": 6,
   "id": "491adad3-97b4-4fca-992e-4f9705dcdde6",
   "metadata": {},
   "outputs": [],
   "source": [
    "# Preprocessing\n",
    "numeric_features = ['AGE', 'SALARY_INR', 'AVERAGE_PERCENTAGE_SALARY_HIKE', 'AVERAGE_PERFORMANCE_RATING', 'OVERTIME_HOURS', 'TENURE_MONTHS']\n",
    "categorical_features = ['QUALIFICATION', 'ETHNICITY', 'MARITAL_STATUS', 'GENDER', 'CONTINENT', 'COUNTRY', 'STATE', 'CITY', 'ROLE', 'LINE_OF_BUSINESS', 'DELIVERY_UNIT', 'PRACTICE_UNIT', 'EMPLOYMENT_TYPE', 'TURNOVER_REASONS', 'SHIFT', 'OVER_TIME']"
   ]
  },
  {
   "cell_type": "code",
   "execution_count": 7,
   "id": "9d3f1d13-1373-487b-aec2-1b41cba53c00",
   "metadata": {},
   "outputs": [],
   "source": [
    "preprocessor = ColumnTransformer(\n",
    "    transformers=[\n",
    "        ('num', StandardScaler(), numeric_features),\n",
    "        ('cat', OneHotEncoder(), categorical_features)])"
   ]
  },
  {
   "cell_type": "code",
   "execution_count": 9,
   "id": "6c1b55b1-e782-4e5f-96be-ae941eeddb40",
   "metadata": {},
   "outputs": [],
   "source": [
    "# Split data\n",
    "X = df.drop('CHURN', axis=1)\n",
    "y = df['CHURN']\n",
    "X_train, X_test, y_train, y_test = train_test_split(X, y, test_size=0.2, random_state=42)"
   ]
  },
  {
   "cell_type": "code",
   "execution_count": 10,
   "id": "25a43b82-bc03-4d53-b1e8-d338c44bd680",
   "metadata": {},
   "outputs": [],
   "source": [
    "# Create pipeline\n",
    "clf = Pipeline(steps=[('preprocessor', preprocessor),\n",
    "                      ('classifier', LogisticRegression())])"
   ]
  },
  {
   "cell_type": "code",
   "execution_count": 11,
   "id": "b2569e3f-d277-4f7b-9ba9-95f155cadda3",
   "metadata": {},
   "outputs": [
    {
     "data": {
      "text/html": [
       "<style>#sk-container-id-1 {color: black;}#sk-container-id-1 pre{padding: 0;}#sk-container-id-1 div.sk-toggleable {background-color: white;}#sk-container-id-1 label.sk-toggleable__label {cursor: pointer;display: block;width: 100%;margin-bottom: 0;padding: 0.3em;box-sizing: border-box;text-align: center;}#sk-container-id-1 label.sk-toggleable__label-arrow:before {content: \"▸\";float: left;margin-right: 0.25em;color: #696969;}#sk-container-id-1 label.sk-toggleable__label-arrow:hover:before {color: black;}#sk-container-id-1 div.sk-estimator:hover label.sk-toggleable__label-arrow:before {color: black;}#sk-container-id-1 div.sk-toggleable__content {max-height: 0;max-width: 0;overflow: hidden;text-align: left;background-color: #f0f8ff;}#sk-container-id-1 div.sk-toggleable__content pre {margin: 0.2em;color: black;border-radius: 0.25em;background-color: #f0f8ff;}#sk-container-id-1 input.sk-toggleable__control:checked~div.sk-toggleable__content {max-height: 200px;max-width: 100%;overflow: auto;}#sk-container-id-1 input.sk-toggleable__control:checked~label.sk-toggleable__label-arrow:before {content: \"▾\";}#sk-container-id-1 div.sk-estimator input.sk-toggleable__control:checked~label.sk-toggleable__label {background-color: #d4ebff;}#sk-container-id-1 div.sk-label input.sk-toggleable__control:checked~label.sk-toggleable__label {background-color: #d4ebff;}#sk-container-id-1 input.sk-hidden--visually {border: 0;clip: rect(1px 1px 1px 1px);clip: rect(1px, 1px, 1px, 1px);height: 1px;margin: -1px;overflow: hidden;padding: 0;position: absolute;width: 1px;}#sk-container-id-1 div.sk-estimator {font-family: monospace;background-color: #f0f8ff;border: 1px dotted black;border-radius: 0.25em;box-sizing: border-box;margin-bottom: 0.5em;}#sk-container-id-1 div.sk-estimator:hover {background-color: #d4ebff;}#sk-container-id-1 div.sk-parallel-item::after {content: \"\";width: 100%;border-bottom: 1px solid gray;flex-grow: 1;}#sk-container-id-1 div.sk-label:hover label.sk-toggleable__label {background-color: #d4ebff;}#sk-container-id-1 div.sk-serial::before {content: \"\";position: absolute;border-left: 1px solid gray;box-sizing: border-box;top: 0;bottom: 0;left: 50%;z-index: 0;}#sk-container-id-1 div.sk-serial {display: flex;flex-direction: column;align-items: center;background-color: white;padding-right: 0.2em;padding-left: 0.2em;position: relative;}#sk-container-id-1 div.sk-item {position: relative;z-index: 1;}#sk-container-id-1 div.sk-parallel {display: flex;align-items: stretch;justify-content: center;background-color: white;position: relative;}#sk-container-id-1 div.sk-item::before, #sk-container-id-1 div.sk-parallel-item::before {content: \"\";position: absolute;border-left: 1px solid gray;box-sizing: border-box;top: 0;bottom: 0;left: 50%;z-index: -1;}#sk-container-id-1 div.sk-parallel-item {display: flex;flex-direction: column;z-index: 1;position: relative;background-color: white;}#sk-container-id-1 div.sk-parallel-item:first-child::after {align-self: flex-end;width: 50%;}#sk-container-id-1 div.sk-parallel-item:last-child::after {align-self: flex-start;width: 50%;}#sk-container-id-1 div.sk-parallel-item:only-child::after {width: 0;}#sk-container-id-1 div.sk-dashed-wrapped {border: 1px dashed gray;margin: 0 0.4em 0.5em 0.4em;box-sizing: border-box;padding-bottom: 0.4em;background-color: white;}#sk-container-id-1 div.sk-label label {font-family: monospace;font-weight: bold;display: inline-block;line-height: 1.2em;}#sk-container-id-1 div.sk-label-container {text-align: center;}#sk-container-id-1 div.sk-container {/* jupyter's `normalize.less` sets `[hidden] { display: none; }` but bootstrap.min.css set `[hidden] { display: none !important; }` so we also need the `!important` here to be able to override the default hidden behavior on the sphinx rendered scikit-learn.org. See: https://github.com/scikit-learn/scikit-learn/issues/21755 */display: inline-block !important;position: relative;}#sk-container-id-1 div.sk-text-repr-fallback {display: none;}</style><div id=\"sk-container-id-1\" class=\"sk-top-container\"><div class=\"sk-text-repr-fallback\"><pre>Pipeline(steps=[(&#x27;preprocessor&#x27;,\n",
       "                 ColumnTransformer(transformers=[(&#x27;num&#x27;, StandardScaler(),\n",
       "                                                  [&#x27;AGE&#x27;, &#x27;SALARY_INR&#x27;,\n",
       "                                                   &#x27;AVERAGE_PERCENTAGE_SALARY_HIKE&#x27;,\n",
       "                                                   &#x27;AVERAGE_PERFORMANCE_RATING&#x27;,\n",
       "                                                   &#x27;OVERTIME_HOURS&#x27;,\n",
       "                                                   &#x27;TENURE_MONTHS&#x27;]),\n",
       "                                                 (&#x27;cat&#x27;, OneHotEncoder(),\n",
       "                                                  [&#x27;QUALIFICATION&#x27;, &#x27;ETHNICITY&#x27;,\n",
       "                                                   &#x27;MARITAL_STATUS&#x27;, &#x27;GENDER&#x27;,\n",
       "                                                   &#x27;CONTINENT&#x27;, &#x27;COUNTRY&#x27;,\n",
       "                                                   &#x27;STATE&#x27;, &#x27;CITY&#x27;, &#x27;ROLE&#x27;,\n",
       "                                                   &#x27;LINE_OF_BUSINESS&#x27;,\n",
       "                                                   &#x27;DELIVERY_UNIT&#x27;,\n",
       "                                                   &#x27;PRACTICE_UNIT&#x27;,\n",
       "                                                   &#x27;EMPLOYMENT_TYPE&#x27;,\n",
       "                                                   &#x27;TURNOVER_REASONS&#x27;, &#x27;SHIFT&#x27;,\n",
       "                                                   &#x27;OVER_TIME&#x27;])])),\n",
       "                (&#x27;classifier&#x27;, LogisticRegression())])</pre><b>In a Jupyter environment, please rerun this cell to show the HTML representation or trust the notebook. <br />On GitHub, the HTML representation is unable to render, please try loading this page with nbviewer.org.</b></div><div class=\"sk-container\" hidden><div class=\"sk-item sk-dashed-wrapped\"><div class=\"sk-label-container\"><div class=\"sk-label sk-toggleable\"><input class=\"sk-toggleable__control sk-hidden--visually\" id=\"sk-estimator-id-1\" type=\"checkbox\" ><label for=\"sk-estimator-id-1\" class=\"sk-toggleable__label sk-toggleable__label-arrow\">Pipeline</label><div class=\"sk-toggleable__content\"><pre>Pipeline(steps=[(&#x27;preprocessor&#x27;,\n",
       "                 ColumnTransformer(transformers=[(&#x27;num&#x27;, StandardScaler(),\n",
       "                                                  [&#x27;AGE&#x27;, &#x27;SALARY_INR&#x27;,\n",
       "                                                   &#x27;AVERAGE_PERCENTAGE_SALARY_HIKE&#x27;,\n",
       "                                                   &#x27;AVERAGE_PERFORMANCE_RATING&#x27;,\n",
       "                                                   &#x27;OVERTIME_HOURS&#x27;,\n",
       "                                                   &#x27;TENURE_MONTHS&#x27;]),\n",
       "                                                 (&#x27;cat&#x27;, OneHotEncoder(),\n",
       "                                                  [&#x27;QUALIFICATION&#x27;, &#x27;ETHNICITY&#x27;,\n",
       "                                                   &#x27;MARITAL_STATUS&#x27;, &#x27;GENDER&#x27;,\n",
       "                                                   &#x27;CONTINENT&#x27;, &#x27;COUNTRY&#x27;,\n",
       "                                                   &#x27;STATE&#x27;, &#x27;CITY&#x27;, &#x27;ROLE&#x27;,\n",
       "                                                   &#x27;LINE_OF_BUSINESS&#x27;,\n",
       "                                                   &#x27;DELIVERY_UNIT&#x27;,\n",
       "                                                   &#x27;PRACTICE_UNIT&#x27;,\n",
       "                                                   &#x27;EMPLOYMENT_TYPE&#x27;,\n",
       "                                                   &#x27;TURNOVER_REASONS&#x27;, &#x27;SHIFT&#x27;,\n",
       "                                                   &#x27;OVER_TIME&#x27;])])),\n",
       "                (&#x27;classifier&#x27;, LogisticRegression())])</pre></div></div></div><div class=\"sk-serial\"><div class=\"sk-item sk-dashed-wrapped\"><div class=\"sk-label-container\"><div class=\"sk-label sk-toggleable\"><input class=\"sk-toggleable__control sk-hidden--visually\" id=\"sk-estimator-id-2\" type=\"checkbox\" ><label for=\"sk-estimator-id-2\" class=\"sk-toggleable__label sk-toggleable__label-arrow\">preprocessor: ColumnTransformer</label><div class=\"sk-toggleable__content\"><pre>ColumnTransformer(transformers=[(&#x27;num&#x27;, StandardScaler(),\n",
       "                                 [&#x27;AGE&#x27;, &#x27;SALARY_INR&#x27;,\n",
       "                                  &#x27;AVERAGE_PERCENTAGE_SALARY_HIKE&#x27;,\n",
       "                                  &#x27;AVERAGE_PERFORMANCE_RATING&#x27;,\n",
       "                                  &#x27;OVERTIME_HOURS&#x27;, &#x27;TENURE_MONTHS&#x27;]),\n",
       "                                (&#x27;cat&#x27;, OneHotEncoder(),\n",
       "                                 [&#x27;QUALIFICATION&#x27;, &#x27;ETHNICITY&#x27;,\n",
       "                                  &#x27;MARITAL_STATUS&#x27;, &#x27;GENDER&#x27;, &#x27;CONTINENT&#x27;,\n",
       "                                  &#x27;COUNTRY&#x27;, &#x27;STATE&#x27;, &#x27;CITY&#x27;, &#x27;ROLE&#x27;,\n",
       "                                  &#x27;LINE_OF_BUSINESS&#x27;, &#x27;DELIVERY_UNIT&#x27;,\n",
       "                                  &#x27;PRACTICE_UNIT&#x27;, &#x27;EMPLOYMENT_TYPE&#x27;,\n",
       "                                  &#x27;TURNOVER_REASONS&#x27;, &#x27;SHIFT&#x27;, &#x27;OVER_TIME&#x27;])])</pre></div></div></div><div class=\"sk-parallel\"><div class=\"sk-parallel-item\"><div class=\"sk-item\"><div class=\"sk-label-container\"><div class=\"sk-label sk-toggleable\"><input class=\"sk-toggleable__control sk-hidden--visually\" id=\"sk-estimator-id-3\" type=\"checkbox\" ><label for=\"sk-estimator-id-3\" class=\"sk-toggleable__label sk-toggleable__label-arrow\">num</label><div class=\"sk-toggleable__content\"><pre>[&#x27;AGE&#x27;, &#x27;SALARY_INR&#x27;, &#x27;AVERAGE_PERCENTAGE_SALARY_HIKE&#x27;, &#x27;AVERAGE_PERFORMANCE_RATING&#x27;, &#x27;OVERTIME_HOURS&#x27;, &#x27;TENURE_MONTHS&#x27;]</pre></div></div></div><div class=\"sk-serial\"><div class=\"sk-item\"><div class=\"sk-estimator sk-toggleable\"><input class=\"sk-toggleable__control sk-hidden--visually\" id=\"sk-estimator-id-4\" type=\"checkbox\" ><label for=\"sk-estimator-id-4\" class=\"sk-toggleable__label sk-toggleable__label-arrow\">StandardScaler</label><div class=\"sk-toggleable__content\"><pre>StandardScaler()</pre></div></div></div></div></div></div><div class=\"sk-parallel-item\"><div class=\"sk-item\"><div class=\"sk-label-container\"><div class=\"sk-label sk-toggleable\"><input class=\"sk-toggleable__control sk-hidden--visually\" id=\"sk-estimator-id-5\" type=\"checkbox\" ><label for=\"sk-estimator-id-5\" class=\"sk-toggleable__label sk-toggleable__label-arrow\">cat</label><div class=\"sk-toggleable__content\"><pre>[&#x27;QUALIFICATION&#x27;, &#x27;ETHNICITY&#x27;, &#x27;MARITAL_STATUS&#x27;, &#x27;GENDER&#x27;, &#x27;CONTINENT&#x27;, &#x27;COUNTRY&#x27;, &#x27;STATE&#x27;, &#x27;CITY&#x27;, &#x27;ROLE&#x27;, &#x27;LINE_OF_BUSINESS&#x27;, &#x27;DELIVERY_UNIT&#x27;, &#x27;PRACTICE_UNIT&#x27;, &#x27;EMPLOYMENT_TYPE&#x27;, &#x27;TURNOVER_REASONS&#x27;, &#x27;SHIFT&#x27;, &#x27;OVER_TIME&#x27;]</pre></div></div></div><div class=\"sk-serial\"><div class=\"sk-item\"><div class=\"sk-estimator sk-toggleable\"><input class=\"sk-toggleable__control sk-hidden--visually\" id=\"sk-estimator-id-6\" type=\"checkbox\" ><label for=\"sk-estimator-id-6\" class=\"sk-toggleable__label sk-toggleable__label-arrow\">OneHotEncoder</label><div class=\"sk-toggleable__content\"><pre>OneHotEncoder()</pre></div></div></div></div></div></div></div></div><div class=\"sk-item\"><div class=\"sk-estimator sk-toggleable\"><input class=\"sk-toggleable__control sk-hidden--visually\" id=\"sk-estimator-id-7\" type=\"checkbox\" ><label for=\"sk-estimator-id-7\" class=\"sk-toggleable__label sk-toggleable__label-arrow\">LogisticRegression</label><div class=\"sk-toggleable__content\"><pre>LogisticRegression()</pre></div></div></div></div></div></div></div>"
      ],
      "text/plain": [
       "Pipeline(steps=[('preprocessor',\n",
       "                 ColumnTransformer(transformers=[('num', StandardScaler(),\n",
       "                                                  ['AGE', 'SALARY_INR',\n",
       "                                                   'AVERAGE_PERCENTAGE_SALARY_HIKE',\n",
       "                                                   'AVERAGE_PERFORMANCE_RATING',\n",
       "                                                   'OVERTIME_HOURS',\n",
       "                                                   'TENURE_MONTHS']),\n",
       "                                                 ('cat', OneHotEncoder(),\n",
       "                                                  ['QUALIFICATION', 'ETHNICITY',\n",
       "                                                   'MARITAL_STATUS', 'GENDER',\n",
       "                                                   'CONTINENT', 'COUNTRY',\n",
       "                                                   'STATE', 'CITY', 'ROLE',\n",
       "                                                   'LINE_OF_BUSINESS',\n",
       "                                                   'DELIVERY_UNIT',\n",
       "                                                   'PRACTICE_UNIT',\n",
       "                                                   'EMPLOYMENT_TYPE',\n",
       "                                                   'TURNOVER_REASONS', 'SHIFT',\n",
       "                                                   'OVER_TIME'])])),\n",
       "                ('classifier', LogisticRegression())])"
      ]
     },
     "execution_count": 11,
     "metadata": {},
     "output_type": "execute_result"
    }
   ],
   "source": [
    "# Train model\n",
    "clf.fit(X_train, y_train)"
   ]
  },
  {
   "cell_type": "code",
   "execution_count": 12,
   "id": "2795e6a0-60e6-49a0-b910-cb2b1b5f8dac",
   "metadata": {},
   "outputs": [
    {
     "name": "stdout",
     "output_type": "stream",
     "text": [
      "              precision    recall  f1-score   support\n",
      "\n",
      "           0       0.85      0.72      0.78     29990\n",
      "           1       0.76      0.87      0.81     30010\n",
      "\n",
      "    accuracy                           0.80     60000\n",
      "   macro avg       0.80      0.80      0.80     60000\n",
      "weighted avg       0.80      0.80      0.80     60000\n",
      "\n"
     ]
    }
   ],
   "source": [
    "# Predict and evaluate\n",
    "y_pred = clf.predict(X_test)\n",
    "print(classification_report(y_test, y_pred))"
   ]
  },
  {
   "cell_type": "code",
   "execution_count": null,
   "id": "101fc837-4aa8-402f-82af-8c5270fe11ae",
   "metadata": {},
   "outputs": [],
   "source": []
  }
 ],
 "metadata": {
  "kernelspec": {
   "display_name": "Python 3 (ipykernel)",
   "language": "python",
   "name": "python3"
  },
  "language_info": {
   "codemirror_mode": {
    "name": "ipython",
    "version": 3
   },
   "file_extension": ".py",
   "mimetype": "text/x-python",
   "name": "python",
   "nbconvert_exporter": "python",
   "pygments_lexer": "ipython3",
   "version": "3.9.19"
  }
 },
 "nbformat": 4,
 "nbformat_minor": 5
}
