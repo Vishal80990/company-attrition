{
 "cells": [
  {
   "cell_type": "code",
   "execution_count": null,
   "id": "a6655806-ef28-479a-8e5a-506b8fd0315a",
   "metadata": {},
   "outputs": [],
   "source": []
  }
 ],
 "metadata": {
  "kernelspec": {
   "display_name": "",
   "name": ""
  },
  "language_info": {
   "name": ""
  }
 },
 "nbformat": 4,
 "nbformat_minor": 5
}
