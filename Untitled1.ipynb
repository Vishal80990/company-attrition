{
 "cells": [
  {
   "cell_type": "code",
   "execution_count": null,
   "id": "a6655806-ef28-479a-8e5a-506b8fd0315a",
   "metadata": {},
   "outputs": [],
   "source": [
    "!pip install fosforml \n",
    "!pip install fosforio"
   ]
  },
  {
   "cell_type": "code",
   "execution_count": 1,
   "id": "88e2ebdd-797e-41a6-8122-c450268ba6e3",
   "metadata": {},
   "outputs": [],
   "source": [
    "import pandas as pd\n",
    "from sklearn.model_selection import train_test_split\n",
    "from sklearn.preprocessing import StandardScaler, OneHotEncoder\n",
    "from sklearn.compose import ColumnTransformer\n",
    "from sklearn.pipeline import Pipeline\n",
    "from sklearn.linear_model import LogisticRegression\n",
    "from sklearn.metrics import classification_report"
   ]
  },
  {
   "cell_type": "code",
   "execution_count": 2,
   "id": "6ea8441c-6bc8-4347-9999-8dd69a37edd6",
   "metadata": {},
   "outputs": [],
   "source": [
    "from fosforml.model_manager.snowflakesession import get_session\n",
    "my_session = get_session()"
   ]
  },
  {
   "cell_type": "code",
   "execution_count": 3,
   "id": "427846dd-d1be-4b69-9006-b843c490113e",
   "metadata": {},
   "outputs": [],
   "source": [
    "df = 'EMPLOYEE_DATASET'"
   ]
  },
  {
   "cell_type": "code",
   "execution_count": 4,
   "id": "cf1ae9f8-1dc7-4fbf-9e07-51ca18117e39",
   "metadata": {},
   "outputs": [],
   "source": [
    "sf_df = my_session.sql(\"select * from {}\".format(df))"
   ]
  },
  {
   "cell_type": "code",
   "execution_count": 5,
   "id": "82c6d76c-e451-4447-8662-6a1ee3293977",
   "metadata": {},
   "outputs": [],
   "source": [
    "df = sf_df.to_pandas()"
   ]
  },
  {
   "cell_type": "code",
   "execution_count": null,
   "id": "491adad3-97b4-4fca-992e-4f9705dcdde6",
   "metadata": {},
   "outputs": [],
   "source": [
    "# Preprocessing\n",
    "numeric_features = ['AGE', 'SALARY_INR', 'AVERAGE_PERCENTAGE_SALARY_HIKE', 'AVERAGE_PERFORMANCE_RATING', 'OVERTIME_HOURS', 'TENURE_MONTHS']\n",
    "categorical_features = ['QUALIFICATION', 'ETHNICITY', 'MARITAL_STATUS', 'GENDER', 'CONTINENT', 'COUNTRY', 'STATE', 'CITY', 'ROLE', 'LINE_OF_BUSINESS', 'DELIVERY_UNIT', 'PRACTICE_UNIT', 'EMPLOYMENT_TYPE', 'TURNOVER_REASONS', 'SHIFT', 'OVER_TIME']"
   ]
  }
 ],
 "metadata": {
  "kernelspec": {
   "display_name": "Python 3 (ipykernel)",
   "language": "python",
   "name": "python3"
  },
  "language_info": {
   "codemirror_mode": {
    "name": "ipython",
    "version": 3
   },
   "file_extension": ".py",
   "mimetype": "text/x-python",
   "name": "python",
   "nbconvert_exporter": "python",
   "pygments_lexer": "ipython3",
   "version": "3.9.19"
  }
 },
 "nbformat": 4,
 "nbformat_minor": 5
}
