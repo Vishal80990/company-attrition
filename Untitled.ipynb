{
 "cells": [
  {
   "cell_type": "code",
   "execution_count": null,
   "id": "968445d5-4111-4dc4-8d4e-3a6634ce57c3",
   "metadata": {},
   "outputs": [],
   "source": [
    "!pip install fosforml \n",
    "!pip install fosforio"
   ]
  },
  {
   "cell_type": "code",
   "execution_count": 1,
   "id": "49a2c893-0340-4c08-abe6-706b98e6b20c",
   "metadata": {},
   "outputs": [],
   "source": [
    "import pandas as pd\n",
    "import numpy as np\n",
    "import matplotlib.pyplot as plt\n",
    "from sklearn.preprocessing import LabelEncoder, MinMaxScaler, OneHotEncoder, OrdinalEncoder\n",
    "from sklearn.model_selection import train_test_split\n",
    "from sklearn.ensemble import RandomForestClassifier\n",
    "from sklearn.metrics import accuracy_score, confusion_matrix, classification_report\n",
    "#import seaborn as sns\n",
    "from scipy.stats.mstats import winsorize\n",
    "from xgboost import XGBClassifier\n",
    "from sklearn.compose import ColumnTransformer\n",
    "from sklearn.ensemble import RandomForestClassifier\n",
    "from sklearn.pipeline import Pipeline\n",
    "import joblib\n",
    "from fosforml import *\n",
    "from fosforml.constants import MLModelFlavours\n",
    "import warnings\n",
    "warnings.filterwarnings(\"ignore\", message=\"numpy.dtype size changed\")\n",
    "warnings.filterwarnings(\"ignore\", message=\"numpy.ufunc size changed\")"
   ]
  },
  {
   "cell_type": "code",
   "execution_count": 2,
   "id": "98ba9ab2-e4b9-489c-a0c9-fad3680d7632",
   "metadata": {},
   "outputs": [],
   "source": [
    "from fosforml.model_manager.snowflakesession import get_session\n",
    "my_session = get_session()"
   ]
  },
  {
   "cell_type": "code",
   "execution_count": 3,
   "id": "9b653b1f-841a-4e95-a76f-ed4b3b3991c1",
   "metadata": {},
   "outputs": [],
   "source": [
    "df = 'EMPLOYEE_DATASET'"
   ]
  },
  {
   "cell_type": "code",
   "execution_count": 4,
   "id": "55cc1456-d443-4e18-808e-2aeddd42c389",
   "metadata": {},
   "outputs": [],
   "source": [
    "sf_df = my_session.sql(\"select * from {}\".format(df))"
   ]
  },
  {
   "cell_type": "code",
   "execution_count": 5,
   "id": "6a885559-f81a-4838-a724-f42ec89ecb9e",
   "metadata": {},
   "outputs": [],
   "source": [
    "df = sf_df.to_pandas()"
   ]
  },
  {
   "cell_type": "code",
   "execution_count": 6,
   "id": "756b340e-c920-44b2-88e0-136e77833d2a",
   "metadata": {},
   "outputs": [
    {
     "name": "stdout",
     "output_type": "stream",
     "text": [
      "BIRTH_YEAR                             0\n",
      "AGE                                    0\n",
      "QUALIFICATION                          0\n",
      "ETHNICITY                              0\n",
      "MARITAL_STATUS                         0\n",
      "GENDER                                 0\n",
      "CONTINENT                              0\n",
      "COUNTRY                                0\n",
      "STATE                                  0\n",
      "CITY                                   0\n",
      "LATITUDE                               0\n",
      "LONGITUDE                              0\n",
      "EMPLOYEE_ID                            0\n",
      "DISTANCE                               0\n",
      "ROLE                                   0\n",
      "LINE_OF_BUSINESS                       0\n",
      "DELIVERY_UNIT                          0\n",
      "PRACTICE_UNIT                          0\n",
      "EMPLOYMENT_TYPE                        0\n",
      "TURNOVER_REASONS                       0\n",
      "SHIFT                                  0\n",
      "SALARY_INR                             0\n",
      "SALARY_RANGE                           0\n",
      "SALARY_LEVELS                          0\n",
      "JOB_SATISFACTION                       0\n",
      "AVERAGE_PERCENTAGE_SALARY_HIKE         0\n",
      "AVERAGE_PERFORMANCE_RATING             0\n",
      "OVER_TIME                              0\n",
      "OVERTIME_HOURS                         0\n",
      "JOB_STARTDATE                          0\n",
      "JOB_ENDDATE                       149539\n",
      "CHURN                                  0\n",
      "TENURE_MONTHS                          0\n",
      "dtype: int64\n"
     ]
    }
   ],
   "source": [
    "print(df.isnull().sum())"
   ]
  },
  {
   "cell_type": "code",
   "execution_count": 7,
   "id": "00400020-6773-43b7-bfa4-87b11197d75e",
   "metadata": {},
   "outputs": [],
   "source": [
    "Original_df = df"
   ]
  },
  {
   "cell_type": "code",
   "execution_count": 8,
   "id": "cdeb1df6-79de-42ab-8145-ceda46243789",
   "metadata": {},
   "outputs": [],
   "source": [
    "Employee_df = Original_df.drop([\"EMPLOYEE_ID\", \"JOB_STARTDATE\", \"JOB_ENDDATE\",\"AVERAGE_PERCENTAGE_SALARY_HIKE\",\"AVERAGE_PERFORMANCE_RATING\",\"SALARY_RANGE\",\"LATITUDE\",\"LONGITUDE\"], axis = 1)"
   ]
  },
  {
   "cell_type": "code",
   "execution_count": 9,
   "id": "1b9a82e8-d747-463b-a8ef-13e922ddef16",
   "metadata": {},
   "outputs": [],
   "source": [
    "CATEGORICAL_COLUMNS = [\"QUALIFICATION\",\"ETHNICITY\",\"MARITAL_STATUS\",\"GENDER\",\"CONTINENT\",\"COUNTRY\",\"STATE\",\"CITY\",\"ROLE\",\"LINE_OF_BUSINESS\",\"DELIVERY_UNIT\",\n",
    "                      \"PRACTICE_UNIT\",\"EMPLOYMENT_TYPE\",\"TURNOVER_REASONS\",\"SHIFT\",\"SALARY_LEVELS\",\"JOB_SATISFACTION\",\"OVER_TIME\",\"DISTANCE\"]\n",
    "NUMERICAL_COLUMNS = [\"BIRTH_YEAR\",\"AGE\",\"SALARY_INR\",\"OVERTIME_HOURS\",\"TENURE_MONTHS\"]\n",
    "LABEL_COLUMNS = [\"CHURN\"]\n",
    "DROPPED_COLUMNS = [\"EMPLOYEE_ID\", \"JOB_STARTDATE\", \"JOB_ENDDATE\",\"AVERAGE_PERCENTAGE_SALARY_HIKE\",\"AVERAGE_PERFORMANCE_RATING\",\"SALARY_RANGE\",\"LATITUDE\",\"LONGITUDE\"]\n",
    "OUTPUT_COLUMNS = [\"PREDICTION\"]"
   ]
  },
  {
   "cell_type": "code",
   "execution_count": 10,
   "id": "d1e37080-091d-4a0e-88d2-f50cf3960999",
   "metadata": {},
   "outputs": [],
   "source": [
    "# Filter feature columns\n",
    "feature_columns = CATEGORICAL_COLUMNS + NUMERICAL_COLUMNS\n",
    "feature_columns = [col for col in feature_columns if col in Original_df.columns]\n",
    "LABEL_COLUMNS = [col for col in LABEL_COLUMNS if col in Original_df.columns]\n",
    " \n",
    "# Split data into features and labels\n",
    "X = Original_df[feature_columns + DROPPED_COLUMNS]\n",
    "y = Original_df[LABEL_COLUMNS].values.ravel()  # Flatten to 1D array for consistency"
   ]
  },
  {
   "cell_type": "code",
   "execution_count": 11,
   "id": "bdce310b-84c9-49bf-969a-965d5b5af3a3",
   "metadata": {},
   "outputs": [],
   "source": [
    "from sklearn.model_selection import train_test_split\n",
    "X_train, X_test, y_train, y_test = train_test_split(X, y, test_size=0.20, random_state=42)"
   ]
  },
  {
   "cell_type": "code",
   "execution_count": 12,
   "id": "52c96bdb-00f7-4d1d-9a6c-fdb6c055a2d5",
   "metadata": {},
   "outputs": [
    {
     "name": "stdout",
     "output_type": "stream",
     "text": [
      "<class 'pandas.core.frame.DataFrame'>\n",
      "Index: 60000 entries, 4941 to 72612\n",
      "Data columns (total 32 columns):\n",
      " #   Column                          Non-Null Count  Dtype  \n",
      "---  ------                          --------------  -----  \n",
      " 0   QUALIFICATION                   60000 non-null  object \n",
      " 1   ETHNICITY                       60000 non-null  object \n",
      " 2   MARITAL_STATUS                  60000 non-null  object \n",
      " 3   GENDER                          60000 non-null  object \n",
      " 4   CONTINENT                       60000 non-null  object \n",
      " 5   COUNTRY                         60000 non-null  object \n",
      " 6   STATE                           60000 non-null  object \n",
      " 7   CITY                            60000 non-null  object \n",
      " 8   ROLE                            60000 non-null  object \n",
      " 9   LINE_OF_BUSINESS                60000 non-null  object \n",
      " 10  DELIVERY_UNIT                   60000 non-null  object \n",
      " 11  PRACTICE_UNIT                   60000 non-null  object \n",
      " 12  EMPLOYMENT_TYPE                 60000 non-null  object \n",
      " 13  TURNOVER_REASONS                60000 non-null  object \n",
      " 14  SHIFT                           60000 non-null  object \n",
      " 15  SALARY_LEVELS                   60000 non-null  object \n",
      " 16  JOB_SATISFACTION                60000 non-null  object \n",
      " 17  OVER_TIME                       60000 non-null  object \n",
      " 18  DISTANCE                        60000 non-null  object \n",
      " 19  BIRTH_YEAR                      60000 non-null  int16  \n",
      " 20  AGE                             60000 non-null  int8   \n",
      " 21  SALARY_INR                      60000 non-null  float64\n",
      " 22  OVERTIME_HOURS                  60000 non-null  int8   \n",
      " 23  TENURE_MONTHS                   60000 non-null  int16  \n",
      " 24  EMPLOYEE_ID                     60000 non-null  object \n",
      " 25  JOB_STARTDATE                   60000 non-null  object \n",
      " 26  JOB_ENDDATE                     30010 non-null  object \n",
      " 27  AVERAGE_PERCENTAGE_SALARY_HIKE  60000 non-null  int8   \n",
      " 28  AVERAGE_PERFORMANCE_RATING      60000 non-null  int8   \n",
      " 29  SALARY_RANGE                    60000 non-null  object \n",
      " 30  LATITUDE                        60000 non-null  object \n",
      " 31  LONGITUDE                       60000 non-null  object \n",
      "dtypes: float64(1), int16(2), int8(4), object(25)\n",
      "memory usage: 12.8+ MB\n"
     ]
    }
   ],
   "source": [
    "X_test.info()"
   ]
  },
  {
   "cell_type": "code",
   "execution_count": 13,
   "id": "ee5320d1-cc91-4f01-b127-d4b60da6806a",
   "metadata": {},
   "outputs": [],
   "source": [
    "from sklearn.pipeline import Pipeline\n",
    "from sklearn.preprocessing import OrdinalEncoder, MinMaxScaler\n",
    "from xgboost import XGBClassifier\n",
    "from sklearn.compose import ColumnTransformer\n",
    "from sklearn.impute import SimpleImputer\n",
    "from sklearn.pipeline import make_pipeline\n",
    " \n",
    "# Define transformers\n",
    "categorical_transformer = make_pipeline(\n",
    "    SimpleImputer(strategy='constant', fill_value='missing'),\n",
    "    OrdinalEncoder(handle_unknown='use_encoded_value', unknown_value=-1)\n",
    ")\n",
    " \n",
    "numerical_transformer = make_pipeline(\n",
    "    SimpleImputer(strategy='mean'),\n",
    "    MinMaxScaler(clip=True)\n",
    ")\n",
    " \n",
    "# Create preprocessor\n",
    "preprocessor = ColumnTransformer(\n",
    "    transformers=[\n",
    "        ('cat', categorical_transformer, CATEGORICAL_COLUMNS),\n",
    "        ('num', numerical_transformer, NUMERICAL_COLUMNS)\n",
    "    ]\n",
    ")\n",
    " \n",
    "# Create pipeline\n",
    "pipeline = Pipeline(steps=[\n",
    "    ('preprocessor', preprocessor),\n",
    "    ('classifier', XGBClassifier())\n",
    "])\n",
    "\n",
    "pipeline.fit(X_train, y_train)\n",
    "result = pipeline.predict(X_test)"
   ]
  },
  {
   "cell_type": "code",
   "execution_count": 14,
   "id": "686aaac4-3956-443c-ab06-2ffb505e8f78",
   "metadata": {},
   "outputs": [
    {
     "data": {
      "text/plain": [
       "array([0, 1, 1, ..., 1, 0, 1])"
      ]
     },
     "execution_count": 14,
     "metadata": {},
     "output_type": "execute_result"
    }
   ],
   "source": [
    "result"
   ]
  },
  {
   "cell_type": "code",
   "execution_count": 15,
   "id": "a2173e10-e301-41df-a598-c7ac64c938cf",
   "metadata": {},
   "outputs": [],
   "source": [
    "y_pred = pipeline.predict(X_test)\n",
    "y_prob = pipeline.predict_proba(X_test)"
   ]
  },
  {
   "cell_type": "code",
   "execution_count": 16,
   "id": "783d876a-9140-41bf-9534-0bdd390f3096",
   "metadata": {},
   "outputs": [
    {
     "name": "stdout",
     "output_type": "stream",
     "text": [
      "Length of y_test: 60000\n",
      "Length of y_pred: 60000\n",
      "              precision    recall  f1-score   support\n",
      "\n",
      "           0       0.97      0.68      0.80     29990\n",
      "           1       0.76      0.98      0.85     30010\n",
      "\n",
      "    accuracy                           0.83     60000\n",
      "   macro avg       0.86      0.83      0.83     60000\n",
      "weighted avg       0.86      0.83      0.83     60000\n",
      "\n",
      "Accuracy: 0.8314666666666667\n",
      "Log Loss: 0.37392185983426657\n",
      "ROC AUC Score: 0.8527787830865315\n"
     ]
    }
   ],
   "source": [
    "from sklearn.metrics import classification_report, log_loss, roc_auc_score\n",
    " \n",
    "# Check lengths\n",
    "print(\"Length of y_test:\", len(y_test))\n",
    "print(\"Length of y_pred:\", len(y_pred))\n",
    " \n",
    "# Print classification report\n",
    "print(classification_report(y_test, y_pred))\n",
    " \n",
    "# Calculate accuracy\n",
    "accuracy = sum(y_test == y_pred) / len(y_test)\n",
    "print(\"Accuracy:\", accuracy)\n",
    " \n",
    "# Calculate additional metrics\n",
    "log_loss_value = log_loss(y_test, y_prob)\n",
    "roc_auc = roc_auc_score(y_test, y_prob[:, 1])  # Assuming class 1 is the positive class\n",
    " \n",
    "print(\"Log Loss:\", log_loss_value)\n",
    "print(\"ROC AUC Score:\", roc_auc)"
   ]
  },
  {
   "cell_type": "code",
   "execution_count": 18,
   "id": "e6cb245d-a1ad-4338-b9ed-0c15a75d899a",
   "metadata": {},
   "outputs": [
    {
     "name": "stdout",
     "output_type": "stream",
     "text": [
      "Collecting seaborn\n",
      "\u001b[?25l  Downloading https://files.pythonhosted.org/packages/83/11/00d3c3dfc25ad54e731d91449895a79e4bf2384dc3ac01809010ba88f6d5/seaborn-0.13.2-py3-none-any.whl (294kB)\n",
      "\u001b[K     |████████████████████████████████| 296kB 10.1MB/s eta 0:00:01\n",
      "\u001b[?25hRequirement already satisfied: pandas>=1.2 in /opt/conda/lib/python3.9/site-packages (from seaborn) (2.0.0)\n",
      "Requirement already satisfied: matplotlib!=3.6.1,>=3.4 in /opt/conda/lib/python3.9/site-packages (from seaborn) (3.9.2)\n",
      "Requirement already satisfied: numpy!=1.24.0,>=1.20 in /opt/conda/lib/python3.9/site-packages (from seaborn) (1.26.4)\n",
      "Requirement already satisfied: pytz>=2020.1 in /opt/conda/lib/python3.9/site-packages (from pandas>=1.2->seaborn) (2024.1)\n",
      "Requirement already satisfied: python-dateutil>=2.8.2 in /opt/conda/lib/python3.9/site-packages (from pandas>=1.2->seaborn) (2.9.0.post0)\n",
      "Requirement already satisfied: tzdata>=2022.1 in /opt/conda/lib/python3.9/site-packages (from pandas>=1.2->seaborn) (2024.1)\n",
      "Requirement already satisfied: contourpy>=1.0.1 in /opt/conda/lib/python3.9/site-packages (from matplotlib!=3.6.1,>=3.4->seaborn) (1.3.0)\n",
      "Requirement already satisfied: cycler>=0.10 in /opt/conda/lib/python3.9/site-packages (from matplotlib!=3.6.1,>=3.4->seaborn) (0.12.1)\n",
      "Requirement already satisfied: pillow>=8 in /opt/conda/lib/python3.9/site-packages (from matplotlib!=3.6.1,>=3.4->seaborn) (10.4.0)\n",
      "Requirement already satisfied: pyparsing>=2.3.1 in /opt/conda/lib/python3.9/site-packages (from matplotlib!=3.6.1,>=3.4->seaborn) (3.1.4)\n",
      "Requirement already satisfied: kiwisolver>=1.3.1 in /opt/conda/lib/python3.9/site-packages (from matplotlib!=3.6.1,>=3.4->seaborn) (1.4.7)\n",
      "Requirement already satisfied: fonttools>=4.22.0 in /opt/conda/lib/python3.9/site-packages (from matplotlib!=3.6.1,>=3.4->seaborn) (4.54.1)\n",
      "Requirement already satisfied: packaging>=20.0 in /opt/conda/lib/python3.9/site-packages (from matplotlib!=3.6.1,>=3.4->seaborn) (23.2)\n",
      "Requirement already satisfied: importlib-resources>=3.2.0; python_version < \"3.10\" in /opt/conda/lib/python3.9/site-packages (from matplotlib!=3.6.1,>=3.4->seaborn) (6.4.5)\n",
      "Requirement already satisfied: six>=1.5 in /opt/conda/lib/python3.9/site-packages (from python-dateutil>=2.8.2->pandas>=1.2->seaborn) (1.16.0)\n",
      "Requirement already satisfied: zipp>=3.1.0; python_version < \"3.10\" in /opt/conda/lib/python3.9/site-packages (from importlib-resources>=3.2.0; python_version < \"3.10\"->matplotlib!=3.6.1,>=3.4->seaborn) (3.19.2)\n",
      "Installing collected packages: seaborn\n",
      "Successfully installed seaborn-0.13.2\n",
      "\u001b[33mWARNING: You are using pip version 19.3.1; however, version 24.2 is available.\n",
      "You should consider upgrading via the 'pip install --upgrade pip' command.\u001b[0m\n"
     ]
    }
   ],
   "source": [
    "!pip install seaborn"
   ]
  },
  {
   "cell_type": "code",
   "execution_count": 20,
   "id": "adcd2e82-5fef-4564-9cc9-6ff00a1b6733",
   "metadata": {},
   "outputs": [],
   "source": [
    "result = pipeline.predict(X_test)\n",
    "result_prob = pipeline.predict_proba(X_test)\n",
    "pred_df = X_test.copy()\n",
    "result = result\n",
    "result_prob = result_prob\n",
    "pred_df[\"PREDICTION\"] = result\n",
    "pred_df[\"PROB\"] = result_prob[:, 1]"
   ]
  },
  {
   "cell_type": "code",
   "execution_count": 21,
   "id": "3cc952f5-fd67-48a6-a032-dd2da67d082e",
   "metadata": {},
   "outputs": [
    {
     "data": {
      "image/png": "[encoded data removed]",
      "text/plain": [
       "<Figure size 640x480 with 1 Axes>"
      ]
     },
     "metadata": {},
     "output_type": "display_data"
    }
   ],
   "source": [
    "from sklearn.metrics import roc_curve, precision_recall_curve, confusion_matrix\n",
    "from sklearn.metrics import roc_auc_score\n",
    "from matplotlib import pyplot as plt\n",
    "import seaborn as sns\n",
    "ns_probs = [0 for _ in range(len(y_test))]\n",
    "ns_auc = roc_auc_score(y_test, ns_probs)\n",
    "lr_auc = roc_auc_score(y_test, pred_df[\"PROB\"])\n",
    "ns_fpr, ns_tpr, _ = roc_curve(y_test, ns_probs)\n",
    "lr_fpr, lr_tpr, _ = roc_curve(y_test, pred_df[\"PROB\"])\n",
    "# plot the roc curve for the model\n",
    "plt.plot(ns_fpr, ns_tpr, linestyle='--', label='No Skill')\n",
    "plt.plot(lr_fpr, lr_tpr, marker='.', label='Radnomforest')\n",
    "# axis labels\n",
    "plt.xlabel('False Positive Rate')\n",
    "plt.ylabel('True Positive Rate')\n",
    "# show the legend\n",
    "plt.legend()\n",
    "# show the plot\n",
    "plt.show()"
   ]
  },
  {
   "cell_type": "code",
   "execution_count": 22,
   "id": "12ba6e82-f1eb-4f7c-a6d4-6f33d97e2f36",
   "metadata": {},
   "outputs": [
    {
     "data": {
      "image/png": "[encoded data removed]",
      "text/plain": [
       "<Figure size 640x480 with 1 Axes>"
      ]
     },
     "metadata": {},
     "output_type": "display_data"
    }
   ],
   "source": [
    "lr_precision, lr_recall, _ = precision_recall_curve(y_test, pred_df[\"PROB\"])\n",
    "plt.plot(lr_recall, lr_precision, marker='.', label='Randomforest')\n",
    "# axis labels\n",
    "plt.xlabel('Recall')\n",
    "plt.ylabel('Precision')\n",
    "# show the legend\n",
    "plt.legend()\n",
    "# show the plot\n",
    "plt.show()"
   ]
  },
  {
   "cell_type": "code",
   "execution_count": 23,
   "id": "60841736-8bdc-44b1-aae6-1a29115c67e6",
   "metadata": {},
   "outputs": [
    {
     "data": {
      "image/png": "[encoded data removed]",
      "text/plain": [
       "<Figure size 640x480 with 2 Axes>"
      ]
     },
     "metadata": {},
     "output_type": "display_data"
    }
   ],
   "source": [
    "cm = confusion_matrix(y_test,y_pred)\n",
    " \n",
    "#Plot the confusion matrix.\n",
    "sns.heatmap(cm,\n",
    "            annot=True,\n",
    "            fmt='g',\n",
    "            xticklabels=['Not Churn','Churn'],\n",
    "            yticklabels=['Not CHurn','Churn'])\n",
    "plt.ylabel('Prediction',fontsize=13)\n",
    "plt.xlabel('Actual',fontsize=13)\n",
    "plt.title('Confusion Matrix',fontsize=17)\n",
    "plt.show()"
   ]
  },
  {
   "cell_type": "code",
   "execution_count": null,
   "id": "963a2164-2dc4-489d-a2b6-9c59311a84f4",
   "metadata": {},
   "outputs": [],
   "source": []
  }
 ],
 "metadata": {
  "kernelspec": {
   "display_name": "Python 3 (ipykernel)",
   "language": "python",
   "name": "python3"
  },
  "language_info": {
   "codemirror_mode": {
    "name": "ipython",
    "version": 3
   },
   "file_extension": ".py",
   "mimetype": "text/x-python",
   "name": "python",
   "nbconvert_exporter": "python",
   "pygments_lexer": "ipython3",
   "version": "3.9.19"
  }
 },
 "nbformat": 4,
 "nbformat_minor": 5
}
