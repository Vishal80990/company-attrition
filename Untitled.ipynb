{
 "cells": [
  {
   "cell_type": "code",
   "execution_count": null,
   "id": "e9fb37d2-da31-438d-aa95-e1f388fe7afb",
   "metadata": {},
   "outputs": [],
   "source": []
  }
 ],
 "metadata": {
  "kernelspec": {
   "display_name": "",
   "name": ""
  },
  "language_info": {
   "name": ""
  }
 },
 "nbformat": 4,
 "nbformat_minor": 5
}
